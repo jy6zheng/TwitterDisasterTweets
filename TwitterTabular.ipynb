{
  "nbformat": 4,
  "nbformat_minor": 0,
  "metadata": {
    "colab": {
      "name": "TwitterTabular.ipynb",
      "provenance": [],
      "collapsed_sections": [],
      "authorship_tag": "ABX9TyP6Ucrw7o+BGopIsdUS9Yel",
      "include_colab_link": true
    },
    "kernelspec": {
      "name": "python3",
      "display_name": "Python 3"
    }
  },
  "cells": [
    {
      "cell_type": "markdown",
      "metadata": {
        "id": "view-in-github",
        "colab_type": "text"
      },
      "source": [
        "<a href=\"https://colab.research.google.com/github/jy6zheng/TwitterDisasterTweets/blob/master/TwitterTabular.ipynb\" target=\"_parent\"><img src=\"https://colab.research.google.com/assets/colab-badge.svg\" alt=\"Open In Colab\"/></a>"
      ]
    },
    {
      "cell_type": "code",
      "metadata": {
        "id": "obYiW1xINtzN",
        "colab_type": "code",
        "outputId": "d7d75057-62ef-4509-edc6-db8a7b264da0",
        "colab": {
          "base_uri": "https://localhost:8080/",
          "height": 51
        }
      },
      "source": [
        "!curl -s https://course.fast.ai/setup/colab | bash"
      ],
      "execution_count": 0,
      "outputs": [
        {
          "output_type": "stream",
          "text": [
            "Updating fastai...\n",
            "Done.\n"
          ],
          "name": "stdout"
        }
      ]
    },
    {
      "cell_type": "code",
      "metadata": {
        "id": "aRpGDj04shlZ",
        "colab_type": "code",
        "outputId": "7ec7b434-acb0-4e44-c013-499031b0c9b1",
        "colab": {
          "base_uri": "https://localhost:8080/",
          "height": 122
        }
      },
      "source": [
        "from google.colab import drive\n",
        "drive.mount('/content/gdrive', force_remount=True)\n",
        "root_dir = \"/content/gdrive/My Drive/\"\n",
        "base_dir = root_dir + 'fastai-v3/'"
      ],
      "execution_count": 0,
      "outputs": [
        {
          "output_type": "stream",
          "text": [
            "Go to this URL in a browser: https://accounts.google.com/o/oauth2/auth?client_id=947318989803-6bn6qk8qdgf4n4g3pfee6491hc0brc4i.apps.googleusercontent.com&redirect_uri=urn%3aietf%3awg%3aoauth%3a2.0%3aoob&response_type=code&scope=email%20https%3a%2f%2fwww.googleapis.com%2fauth%2fdocs.test%20https%3a%2f%2fwww.googleapis.com%2fauth%2fdrive%20https%3a%2f%2fwww.googleapis.com%2fauth%2fdrive.photos.readonly%20https%3a%2f%2fwww.googleapis.com%2fauth%2fpeopleapi.readonly\n",
            "\n",
            "Enter your authorization code:\n",
            "··········\n",
            "Mounted at /content/gdrive\n"
          ],
          "name": "stdout"
        }
      ]
    },
    {
      "cell_type": "code",
      "metadata": {
        "id": "JrbLHl-94pXV",
        "colab_type": "code",
        "colab": {}
      },
      "source": [
        "%reload_ext autoreload\n",
        "%autoreload 2\n",
        "%matplotlib inline"
      ],
      "execution_count": 0,
      "outputs": []
    },
    {
      "cell_type": "code",
      "metadata": {
        "id": "iKKuKL-H47Wh",
        "colab_type": "code",
        "colab": {}
      },
      "source": [
        "from fastai.text import *\n",
        "from fastai.tabular import *"
      ],
      "execution_count": 0,
      "outputs": []
    },
    {
      "cell_type": "code",
      "metadata": {
        "id": "AvLoELUs9Xvk",
        "colab_type": "code",
        "outputId": "3bfd095a-7aeb-4f28-ad4f-6a322f25b20e",
        "colab": {
          "base_uri": "https://localhost:8080/",
          "height": 34
        }
      },
      "source": [
        "path = Path(base_dir + '/data/twitter')\n",
        "path.mkdir(parents=True, exist_ok=True)\n",
        "path"
      ],
      "execution_count": 0,
      "outputs": [
        {
          "output_type": "execute_result",
          "data": {
            "text/plain": [
              "PosixPath('/content/gdrive/My Drive/fastai-v3/data/twitter')"
            ]
          },
          "metadata": {
            "tags": []
          },
          "execution_count": 5
        }
      ]
    },
    {
      "cell_type": "code",
      "metadata": {
        "id": "eIoybBEzk25H",
        "colab_type": "code",
        "colab": {}
      },
      "source": [
        "table = pd.read_csv(path/'train.csv')\n",
        "table = table[['keyword', 'location', 'text', 'target']]\n",
        "table.fillna('None', inplace= True)\n",
        "table = table.sample(frac=1, random_state=1).reset_index(drop=True)\n",
        "train_table = table\n",
        "# [0:6112]\n",
        "# valid_table = table[6112:7613]"
      ],
      "execution_count": 0,
      "outputs": []
    },
    {
      "cell_type": "code",
      "metadata": {
        "id": "a8_gnZk-lM7W",
        "colab_type": "code",
        "colab": {}
      },
      "source": [
        "data_lm = load_data(path, 'data_lm.pkl')"
      ],
      "execution_count": 0,
      "outputs": []
    },
    {
      "cell_type": "code",
      "metadata": {
        "id": "lE3rZFGmknqy",
        "colab_type": "code",
        "outputId": "5a99ba1e-2623-41c9-f94f-270ba0e60e06",
        "colab": {
          "base_uri": "https://localhost:8080/",
          "height": 343
        }
      },
      "source": [
        "text_data = (TextList.from_df(table, cols=['text'], vocab=data_lm.vocab)\n",
        " .split_none()\n",
        " .label_from_df('target')\n",
        " .databunch(bs = 50))\n",
        "text_data"
      ],
      "execution_count": 0,
      "outputs": [
        {
          "output_type": "display_data",
          "data": {
            "text/html": [
              ""
            ],
            "text/plain": [
              "<IPython.core.display.HTML object>"
            ]
          },
          "metadata": {
            "tags": []
          }
        },
        {
          "output_type": "display_data",
          "data": {
            "text/html": [
              ""
            ],
            "text/plain": [
              "<IPython.core.display.HTML object>"
            ]
          },
          "metadata": {
            "tags": []
          }
        },
        {
          "output_type": "execute_result",
          "data": {
            "text/plain": [
              "TextClasDataBunch;\n",
              "\n",
              "Train: LabelList (7613 items)\n",
              "x: TextList\n",
              "xxbos xxmaj xxunk man xxmaj henry xxmaj van xxmaj xxunk missing : xxmaj emergency services are searching for a xxmaj xxunk man who xxunk from xxunk _ http : / / t.co / xxunk,xxbos xxmaj the things we fear most in organizations -- xxunk xxunk xxunk -- are the primary sources of creativity . - xxmaj xxunk xxmaj xxunk,xxbos xxunk ? ? hey xxmaj xxunk,xxbos xxup @potus you until you drown by water entering the lungs . xxmaj you being alive has caused this great country to fall to shit because you 're a pussy,xxbos xxmaj xxunk in my skin \n",
              "  xxmaj these wounds they will not xxunk\n",
              "y: CategoryList\n",
              "1,0,0,0,1\n",
              "Path: .;\n",
              "\n",
              "Valid: LabelList (0 items)\n",
              "x: TextList\n",
              "\n",
              "y: CategoryList\n",
              "\n",
              "Path: .;\n",
              "\n",
              "Test: None"
            ]
          },
          "metadata": {
            "tags": []
          },
          "execution_count": 225
        }
      ]
    },
    {
      "cell_type": "code",
      "metadata": {
        "id": "DWrNrkajODZE",
        "colab_type": "code",
        "colab": {}
      },
      "source": [
        "text_data.save('text_data.pkl')"
      ],
      "execution_count": 0,
      "outputs": []
    },
    {
      "cell_type": "code",
      "metadata": {
        "id": "74bmBz-MOJiy",
        "colab_type": "code",
        "colab": {}
      },
      "source": [
        "shutil.move(\"/content/text_data.pkl\", \"/content/gdrive/My Drive/fastai-v3/data/twitter\")"
      ],
      "execution_count": 0,
      "outputs": []
    },
    {
      "cell_type": "code",
      "metadata": {
        "id": "-eSm4Td-OQP9",
        "colab_type": "code",
        "colab": {}
      },
      "source": [
        "text_data = load_data(path, 'text_data.pkl')"
      ],
      "execution_count": 0,
      "outputs": []
    },
    {
      "cell_type": "code",
      "metadata": {
        "id": "QyynHqjFLzk2",
        "colab_type": "code",
        "outputId": "e1825788-d1c5-4559-a068-97019dbe51f4",
        "colab": {
          "base_uri": "https://localhost:8080/",
          "height": 34
        }
      },
      "source": [
        "learn = text_classifier_learner(text_data, AWD_LSTM, drop_mult=0.5)\n",
        "learn.load_encoder('fine_tuned_enc');"
      ],
      "execution_count": 0,
      "outputs": [
        {
          "output_type": "stream",
          "text": [
            "Downloading https://s3.amazonaws.com/fast-ai-modelzoo/wt103-fwd\n"
          ],
          "name": "stdout"
        },
        {
          "output_type": "display_data",
          "data": {
            "text/html": [
              ""
            ],
            "text/plain": [
              "<IPython.core.display.HTML object>"
            ]
          },
          "metadata": {
            "tags": []
          }
        }
      ]
    },
    {
      "cell_type": "code",
      "metadata": {
        "id": "nvDSG03dNjHB",
        "colab_type": "code",
        "colab": {}
      },
      "source": [
        "learn.load('final');"
      ],
      "execution_count": 0,
      "outputs": []
    },
    {
      "cell_type": "code",
      "metadata": {
        "id": "QTIc-J0CNsQI",
        "colab_type": "code",
        "outputId": "21b1feb3-c1a3-47f6-bbdc-81fce200bf9d",
        "colab": {
          "base_uri": "https://localhost:8080/",
          "height": 17
        }
      },
      "source": [
        "preds, target = learn.get_preds(ds_type=DatasetType.Fix)"
      ],
      "execution_count": 0,
      "outputs": [
        {
          "output_type": "display_data",
          "data": {
            "text/html": [
              ""
            ],
            "text/plain": [
              "<IPython.core.display.HTML object>"
            ]
          },
          "metadata": {
            "tags": []
          }
        }
      ]
    },
    {
      "cell_type": "code",
      "metadata": {
        "id": "vdTRiJkhQvP-",
        "colab_type": "code",
        "colab": {}
      },
      "source": [
        "prob = preds.numpy()"
      ],
      "execution_count": 0,
      "outputs": []
    },
    {
      "cell_type": "code",
      "metadata": {
        "id": "-4DuygDLQ1lj",
        "colab_type": "code",
        "outputId": "70499408-834d-4452-ee21-b74ab1423c3e",
        "colab": {
          "base_uri": "https://localhost:8080/",
          "height": 34
        }
      },
      "source": [
        "target[0:10]"
      ],
      "execution_count": 0,
      "outputs": [
        {
          "output_type": "execute_result",
          "data": {
            "text/plain": [
              "tensor([1, 0, 0, 0, 1, 0, 1, 0, 1, 0])"
            ]
          },
          "metadata": {
            "tags": []
          },
          "execution_count": 233
        }
      ]
    },
    {
      "cell_type": "code",
      "metadata": {
        "id": "pfzotO0wVXo7",
        "colab_type": "code",
        "colab": {}
      },
      "source": [
        "prob_false = [item[0] for item in prob]"
      ],
      "execution_count": 0,
      "outputs": []
    },
    {
      "cell_type": "code",
      "metadata": {
        "id": "61zfvm6xVcNQ",
        "colab_type": "code",
        "outputId": "da2d004a-fddb-413f-e37c-4eeb55418d6b",
        "colab": {
          "base_uri": "https://localhost:8080/",
          "height": 34
        }
      },
      "source": [
        "prob_false[0]"
      ],
      "execution_count": 0,
      "outputs": [
        {
          "output_type": "execute_result",
          "data": {
            "text/plain": [
              "0.09878812"
            ]
          },
          "metadata": {
            "tags": []
          },
          "execution_count": 14
        }
      ]
    },
    {
      "cell_type": "code",
      "metadata": {
        "id": "gKzqPJ1FVh5c",
        "colab_type": "code",
        "outputId": "6f7f6406-1d14-4206-b782-aa345978c85f",
        "colab": {
          "base_uri": "https://localhost:8080/",
          "height": 34
        }
      },
      "source": [
        "prob_true = [item[1] for item in prob]\n",
        "prob_true[0]"
      ],
      "execution_count": 0,
      "outputs": [
        {
          "output_type": "execute_result",
          "data": {
            "text/plain": [
              "0.90121186"
            ]
          },
          "metadata": {
            "tags": []
          },
          "execution_count": 15
        }
      ]
    },
    {
      "cell_type": "code",
      "metadata": {
        "id": "7yNNP6QJSMM1",
        "colab_type": "code",
        "colab": {}
      },
      "source": [
        "train_table['true'] = pd.Series(prob_true, index=train_table.index)\n",
        "train_table['false'] = pd.Series(prob_false, index=train_table.index)"
      ],
      "execution_count": 0,
      "outputs": []
    },
    {
      "cell_type": "code",
      "metadata": {
        "id": "G8WyBA2bWV3g",
        "colab_type": "code",
        "colab": {}
      },
      "source": [
        "train_table.drop(['text'], axis=1, inplace=True)"
      ],
      "execution_count": 0,
      "outputs": []
    },
    {
      "cell_type": "code",
      "metadata": {
        "id": "xnlNZ9I5VwFu",
        "colab_type": "code",
        "outputId": "389aebac-8fef-48e4-a0ce-526c9d97fed0",
        "colab": {
          "base_uri": "https://localhost:8080/",
          "height": 419
        }
      },
      "source": [
        "train_table"
      ],
      "execution_count": 0,
      "outputs": [
        {
          "output_type": "execute_result",
          "data": {
            "text/html": [
              "<div>\n",
              "<style scoped>\n",
              "    .dataframe tbody tr th:only-of-type {\n",
              "        vertical-align: middle;\n",
              "    }\n",
              "\n",
              "    .dataframe tbody tr th {\n",
              "        vertical-align: top;\n",
              "    }\n",
              "\n",
              "    .dataframe thead th {\n",
              "        text-align: right;\n",
              "    }\n",
              "</style>\n",
              "<table border=\"1\" class=\"dataframe\">\n",
              "  <thead>\n",
              "    <tr style=\"text-align: right;\">\n",
              "      <th></th>\n",
              "      <th>keyword</th>\n",
              "      <th>location</th>\n",
              "      <th>target</th>\n",
              "      <th>true</th>\n",
              "      <th>false</th>\n",
              "    </tr>\n",
              "  </thead>\n",
              "  <tbody>\n",
              "    <tr>\n",
              "      <th>0</th>\n",
              "      <td>emergency%20services</td>\n",
              "      <td>Sydney, New South Wales</td>\n",
              "      <td>1</td>\n",
              "      <td>0.901212</td>\n",
              "      <td>0.098788</td>\n",
              "    </tr>\n",
              "    <tr>\n",
              "      <th>1</th>\n",
              "      <td>fear</td>\n",
              "      <td>None</td>\n",
              "      <td>0</td>\n",
              "      <td>0.240022</td>\n",
              "      <td>0.759978</td>\n",
              "    </tr>\n",
              "    <tr>\n",
              "      <th>2</th>\n",
              "      <td>tsunami</td>\n",
              "      <td>Land Of The Kings</td>\n",
              "      <td>0</td>\n",
              "      <td>0.044221</td>\n",
              "      <td>0.955779</td>\n",
              "    </tr>\n",
              "    <tr>\n",
              "      <th>3</th>\n",
              "      <td>drown</td>\n",
              "      <td>None</td>\n",
              "      <td>0</td>\n",
              "      <td>0.244501</td>\n",
              "      <td>0.755499</td>\n",
              "    </tr>\n",
              "    <tr>\n",
              "      <th>4</th>\n",
              "      <td>wounds</td>\n",
              "      <td>cody, austin follows ?*?</td>\n",
              "      <td>1</td>\n",
              "      <td>0.183939</td>\n",
              "      <td>0.816061</td>\n",
              "    </tr>\n",
              "    <tr>\n",
              "      <th>...</th>\n",
              "      <td>...</td>\n",
              "      <td>...</td>\n",
              "      <td>...</td>\n",
              "      <td>...</td>\n",
              "      <td>...</td>\n",
              "    </tr>\n",
              "    <tr>\n",
              "      <th>7608</th>\n",
              "      <td>bloody</td>\n",
              "      <td>None</td>\n",
              "      <td>0</td>\n",
              "      <td>0.097283</td>\n",
              "      <td>0.902717</td>\n",
              "    </tr>\n",
              "    <tr>\n",
              "      <th>7609</th>\n",
              "      <td>obliterated</td>\n",
              "      <td>None</td>\n",
              "      <td>0</td>\n",
              "      <td>0.179528</td>\n",
              "      <td>0.820472</td>\n",
              "    </tr>\n",
              "    <tr>\n",
              "      <th>7610</th>\n",
              "      <td>flooding</td>\n",
              "      <td>Kualar Lumpur, Malaysia</td>\n",
              "      <td>1</td>\n",
              "      <td>0.996749</td>\n",
              "      <td>0.003251</td>\n",
              "    </tr>\n",
              "    <tr>\n",
              "      <th>7611</th>\n",
              "      <td>annihilated</td>\n",
              "      <td>Û¢ Views From The Six Û¢</td>\n",
              "      <td>0</td>\n",
              "      <td>0.120587</td>\n",
              "      <td>0.879413</td>\n",
              "    </tr>\n",
              "    <tr>\n",
              "      <th>7612</th>\n",
              "      <td>obliterate</td>\n",
              "      <td>Purfleet</td>\n",
              "      <td>1</td>\n",
              "      <td>0.254366</td>\n",
              "      <td>0.745634</td>\n",
              "    </tr>\n",
              "  </tbody>\n",
              "</table>\n",
              "<p>7613 rows × 5 columns</p>\n",
              "</div>"
            ],
            "text/plain": [
              "                   keyword                    location  ...      true     false\n",
              "0     emergency%20services     Sydney, New South Wales  ...  0.901212  0.098788\n",
              "1                     fear                        None  ...  0.240022  0.759978\n",
              "2                  tsunami           Land Of The Kings  ...  0.044221  0.955779\n",
              "3                    drown                        None  ...  0.244501  0.755499\n",
              "4                   wounds    cody, austin follows ?*?  ...  0.183939  0.816061\n",
              "...                    ...                         ...  ...       ...       ...\n",
              "7608                bloody                        None  ...  0.097283  0.902717\n",
              "7609           obliterated                        None  ...  0.179528  0.820472\n",
              "7610              flooding     Kualar Lumpur, Malaysia  ...  0.996749  0.003251\n",
              "7611           annihilated  Û¢ Views From The Six Û¢  ...  0.120587  0.879413\n",
              "7612            obliterate                    Purfleet  ...  0.254366  0.745634\n",
              "\n",
              "[7613 rows x 5 columns]"
            ]
          },
          "metadata": {
            "tags": []
          },
          "execution_count": 40
        }
      ]
    },
    {
      "cell_type": "code",
      "metadata": {
        "id": "zZ_ydLm-XIad",
        "colab_type": "code",
        "colab": {}
      },
      "source": [
        "preds, target = learn.get_preds(ds_type=DatasetType.Valid)"
      ],
      "execution_count": 0,
      "outputs": []
    },
    {
      "cell_type": "code",
      "metadata": {
        "id": "n-Ce_ry6YAeg",
        "colab_type": "code",
        "colab": {}
      },
      "source": [
        "prob = preds.numpy()\n",
        "prob_false = [item[0] for item in prob]\n",
        "prob_true = [item[1] for item in prob]"
      ],
      "execution_count": 0,
      "outputs": []
    },
    {
      "cell_type": "code",
      "metadata": {
        "id": "dG5jCrmMYWQk",
        "colab_type": "code",
        "outputId": "fd91391f-d115-4e5b-a459-9be4a9477337",
        "colab": {
          "base_uri": "https://localhost:8080/",
          "height": 241
        }
      },
      "source": [
        "valid_table['true'] = pd.Series(prob_true, index=valid_table.index)\n",
        "valid_table['false'] = pd.Series(prob_false, index=valid_table.index)"
      ],
      "execution_count": 0,
      "outputs": [
        {
          "output_type": "stream",
          "text": [
            "/usr/local/lib/python3.6/dist-packages/ipykernel_launcher.py:1: SettingWithCopyWarning: \n",
            "A value is trying to be set on a copy of a slice from a DataFrame.\n",
            "Try using .loc[row_indexer,col_indexer] = value instead\n",
            "\n",
            "See the caveats in the documentation: https://pandas.pydata.org/pandas-docs/stable/user_guide/indexing.html#returning-a-view-versus-a-copy\n",
            "  \"\"\"Entry point for launching an IPython kernel.\n",
            "/usr/local/lib/python3.6/dist-packages/ipykernel_launcher.py:2: SettingWithCopyWarning: \n",
            "A value is trying to be set on a copy of a slice from a DataFrame.\n",
            "Try using .loc[row_indexer,col_indexer] = value instead\n",
            "\n",
            "See the caveats in the documentation: https://pandas.pydata.org/pandas-docs/stable/user_guide/indexing.html#returning-a-view-versus-a-copy\n",
            "  \n"
          ],
          "name": "stderr"
        }
      ]
    },
    {
      "cell_type": "code",
      "metadata": {
        "id": "LOEqwxfLYbyj",
        "colab_type": "code",
        "outputId": "b96d4c1b-0cc5-4871-e4af-2804fef645fe",
        "colab": {
          "base_uri": "https://localhost:8080/",
          "height": 122
        }
      },
      "source": [
        "valid_table.drop(['text'], axis=1, inplace=True)"
      ],
      "execution_count": 0,
      "outputs": [
        {
          "output_type": "stream",
          "text": [
            "/usr/local/lib/python3.6/dist-packages/pandas/core/frame.py:3997: SettingWithCopyWarning: \n",
            "A value is trying to be set on a copy of a slice from a DataFrame\n",
            "\n",
            "See the caveats in the documentation: https://pandas.pydata.org/pandas-docs/stable/user_guide/indexing.html#returning-a-view-versus-a-copy\n",
            "  errors=errors,\n"
          ],
          "name": "stderr"
        }
      ]
    },
    {
      "cell_type": "code",
      "metadata": {
        "id": "g9SNjKvbYB7M",
        "colab_type": "code",
        "outputId": "2746cf72-0f4d-402b-e981-62e3ebcfd1c2",
        "colab": {
          "base_uri": "https://localhost:8080/",
          "height": 419
        }
      },
      "source": [
        "valid_table()"
      ],
      "execution_count": 0,
      "outputs": [
        {
          "output_type": "execute_result",
          "data": {
            "text/html": [
              "<div>\n",
              "<style scoped>\n",
              "    .dataframe tbody tr th:only-of-type {\n",
              "        vertical-align: middle;\n",
              "    }\n",
              "\n",
              "    .dataframe tbody tr th {\n",
              "        vertical-align: top;\n",
              "    }\n",
              "\n",
              "    .dataframe thead th {\n",
              "        text-align: right;\n",
              "    }\n",
              "</style>\n",
              "<table border=\"1\" class=\"dataframe\">\n",
              "  <thead>\n",
              "    <tr style=\"text-align: right;\">\n",
              "      <th></th>\n",
              "      <th>keyword</th>\n",
              "      <th>location</th>\n",
              "      <th>target</th>\n",
              "      <th>true</th>\n",
              "      <th>false</th>\n",
              "    </tr>\n",
              "  </thead>\n",
              "  <tbody>\n",
              "    <tr>\n",
              "      <th>6112</th>\n",
              "      <td>eyewitness</td>\n",
              "      <td>Orlando, Fl</td>\n",
              "      <td>0</td>\n",
              "      <td>0.929200</td>\n",
              "      <td>0.070800</td>\n",
              "    </tr>\n",
              "    <tr>\n",
              "      <th>6113</th>\n",
              "      <td>destruction</td>\n",
              "      <td>??????? ??????? ????????</td>\n",
              "      <td>1</td>\n",
              "      <td>0.974528</td>\n",
              "      <td>0.025472</td>\n",
              "    </tr>\n",
              "    <tr>\n",
              "      <th>6114</th>\n",
              "      <td>windstorm</td>\n",
              "      <td>Austin, Texas</td>\n",
              "      <td>0</td>\n",
              "      <td>0.482731</td>\n",
              "      <td>0.517269</td>\n",
              "    </tr>\n",
              "    <tr>\n",
              "      <th>6115</th>\n",
              "      <td>hailstorm</td>\n",
              "      <td>None</td>\n",
              "      <td>1</td>\n",
              "      <td>0.895963</td>\n",
              "      <td>0.104037</td>\n",
              "    </tr>\n",
              "    <tr>\n",
              "      <th>6116</th>\n",
              "      <td>trapped</td>\n",
              "      <td>None</td>\n",
              "      <td>0</td>\n",
              "      <td>0.288327</td>\n",
              "      <td>0.711673</td>\n",
              "    </tr>\n",
              "    <tr>\n",
              "      <th>...</th>\n",
              "      <td>...</td>\n",
              "      <td>...</td>\n",
              "      <td>...</td>\n",
              "      <td>...</td>\n",
              "      <td>...</td>\n",
              "    </tr>\n",
              "    <tr>\n",
              "      <th>7608</th>\n",
              "      <td>bloody</td>\n",
              "      <td>None</td>\n",
              "      <td>0</td>\n",
              "      <td>0.097283</td>\n",
              "      <td>0.902717</td>\n",
              "    </tr>\n",
              "    <tr>\n",
              "      <th>7609</th>\n",
              "      <td>obliterated</td>\n",
              "      <td>None</td>\n",
              "      <td>0</td>\n",
              "      <td>0.179528</td>\n",
              "      <td>0.820472</td>\n",
              "    </tr>\n",
              "    <tr>\n",
              "      <th>7610</th>\n",
              "      <td>flooding</td>\n",
              "      <td>Kualar Lumpur, Malaysia</td>\n",
              "      <td>1</td>\n",
              "      <td>0.996749</td>\n",
              "      <td>0.003251</td>\n",
              "    </tr>\n",
              "    <tr>\n",
              "      <th>7611</th>\n",
              "      <td>annihilated</td>\n",
              "      <td>Û¢ Views From The Six Û¢</td>\n",
              "      <td>0</td>\n",
              "      <td>0.150294</td>\n",
              "      <td>0.849706</td>\n",
              "    </tr>\n",
              "    <tr>\n",
              "      <th>7612</th>\n",
              "      <td>obliterate</td>\n",
              "      <td>Purfleet</td>\n",
              "      <td>1</td>\n",
              "      <td>0.257255</td>\n",
              "      <td>0.742745</td>\n",
              "    </tr>\n",
              "  </tbody>\n",
              "</table>\n",
              "<p>1501 rows × 5 columns</p>\n",
              "</div>"
            ],
            "text/plain": [
              "          keyword                    location  target      true     false\n",
              "6112   eyewitness                 Orlando, Fl       0  0.929200  0.070800\n",
              "6113  destruction    ??????? ??????? ????????       1  0.974528  0.025472\n",
              "6114    windstorm               Austin, Texas       0  0.482731  0.517269\n",
              "6115    hailstorm                        None       1  0.895963  0.104037\n",
              "6116      trapped                        None       0  0.288327  0.711673\n",
              "...           ...                         ...     ...       ...       ...\n",
              "7608       bloody                        None       0  0.097283  0.902717\n",
              "7609  obliterated                        None       0  0.179528  0.820472\n",
              "7610     flooding     Kualar Lumpur, Malaysia       1  0.996749  0.003251\n",
              "7611  annihilated  Û¢ Views From The Six Û¢       0  0.150294  0.849706\n",
              "7612   obliterate                    Purfleet       1  0.257255  0.742745\n",
              "\n",
              "[1501 rows x 5 columns]"
            ]
          },
          "metadata": {
            "tags": []
          },
          "execution_count": 161
        }
      ]
    },
    {
      "cell_type": "code",
      "metadata": {
        "id": "YkbjvvyHb56Y",
        "colab_type": "code",
        "outputId": "452b8112-0636-4c0b-8802-cf2616685112",
        "colab": {
          "base_uri": "https://localhost:8080/",
          "height": 419
        }
      },
      "source": [
        "test_table = pd.read_csv(path/'test.csv')\n",
        "test_table.fillna('None', inplace= True)\n",
        "test_table"
      ],
      "execution_count": 0,
      "outputs": [
        {
          "output_type": "execute_result",
          "data": {
            "text/html": [
              "<div>\n",
              "<style scoped>\n",
              "    .dataframe tbody tr th:only-of-type {\n",
              "        vertical-align: middle;\n",
              "    }\n",
              "\n",
              "    .dataframe tbody tr th {\n",
              "        vertical-align: top;\n",
              "    }\n",
              "\n",
              "    .dataframe thead th {\n",
              "        text-align: right;\n",
              "    }\n",
              "</style>\n",
              "<table border=\"1\" class=\"dataframe\">\n",
              "  <thead>\n",
              "    <tr style=\"text-align: right;\">\n",
              "      <th></th>\n",
              "      <th>id</th>\n",
              "      <th>keyword</th>\n",
              "      <th>location</th>\n",
              "      <th>text</th>\n",
              "    </tr>\n",
              "  </thead>\n",
              "  <tbody>\n",
              "    <tr>\n",
              "      <th>0</th>\n",
              "      <td>0</td>\n",
              "      <td>None</td>\n",
              "      <td>None</td>\n",
              "      <td>Just happened a terrible car crash</td>\n",
              "    </tr>\n",
              "    <tr>\n",
              "      <th>1</th>\n",
              "      <td>2</td>\n",
              "      <td>None</td>\n",
              "      <td>None</td>\n",
              "      <td>Heard about #earthquake is different cities, s...</td>\n",
              "    </tr>\n",
              "    <tr>\n",
              "      <th>2</th>\n",
              "      <td>3</td>\n",
              "      <td>None</td>\n",
              "      <td>None</td>\n",
              "      <td>there is a forest fire at spot pond, geese are...</td>\n",
              "    </tr>\n",
              "    <tr>\n",
              "      <th>3</th>\n",
              "      <td>9</td>\n",
              "      <td>None</td>\n",
              "      <td>None</td>\n",
              "      <td>Apocalypse lighting. #Spokane #wildfires</td>\n",
              "    </tr>\n",
              "    <tr>\n",
              "      <th>4</th>\n",
              "      <td>11</td>\n",
              "      <td>None</td>\n",
              "      <td>None</td>\n",
              "      <td>Typhoon Soudelor kills 28 in China and Taiwan</td>\n",
              "    </tr>\n",
              "    <tr>\n",
              "      <th>...</th>\n",
              "      <td>...</td>\n",
              "      <td>...</td>\n",
              "      <td>...</td>\n",
              "      <td>...</td>\n",
              "    </tr>\n",
              "    <tr>\n",
              "      <th>3258</th>\n",
              "      <td>10861</td>\n",
              "      <td>None</td>\n",
              "      <td>None</td>\n",
              "      <td>EARTHQUAKE SAFETY LOS ANGELES ÛÒ SAFETY FASTE...</td>\n",
              "    </tr>\n",
              "    <tr>\n",
              "      <th>3259</th>\n",
              "      <td>10865</td>\n",
              "      <td>None</td>\n",
              "      <td>None</td>\n",
              "      <td>Storm in RI worse than last hurricane. My city...</td>\n",
              "    </tr>\n",
              "    <tr>\n",
              "      <th>3260</th>\n",
              "      <td>10868</td>\n",
              "      <td>None</td>\n",
              "      <td>None</td>\n",
              "      <td>Green Line derailment in Chicago http://t.co/U...</td>\n",
              "    </tr>\n",
              "    <tr>\n",
              "      <th>3261</th>\n",
              "      <td>10874</td>\n",
              "      <td>None</td>\n",
              "      <td>None</td>\n",
              "      <td>MEG issues Hazardous Weather Outlook (HWO) htt...</td>\n",
              "    </tr>\n",
              "    <tr>\n",
              "      <th>3262</th>\n",
              "      <td>10875</td>\n",
              "      <td>None</td>\n",
              "      <td>None</td>\n",
              "      <td>#CityofCalgary has activated its Municipal Eme...</td>\n",
              "    </tr>\n",
              "  </tbody>\n",
              "</table>\n",
              "<p>3263 rows × 4 columns</p>\n",
              "</div>"
            ],
            "text/plain": [
              "         id keyword location                                               text\n",
              "0         0    None     None                 Just happened a terrible car crash\n",
              "1         2    None     None  Heard about #earthquake is different cities, s...\n",
              "2         3    None     None  there is a forest fire at spot pond, geese are...\n",
              "3         9    None     None           Apocalypse lighting. #Spokane #wildfires\n",
              "4        11    None     None      Typhoon Soudelor kills 28 in China and Taiwan\n",
              "...     ...     ...      ...                                                ...\n",
              "3258  10861    None     None  EARTHQUAKE SAFETY LOS ANGELES ÛÒ SAFETY FASTE...\n",
              "3259  10865    None     None  Storm in RI worse than last hurricane. My city...\n",
              "3260  10868    None     None  Green Line derailment in Chicago http://t.co/U...\n",
              "3261  10874    None     None  MEG issues Hazardous Weather Outlook (HWO) htt...\n",
              "3262  10875    None     None  #CityofCalgary has activated its Municipal Eme...\n",
              "\n",
              "[3263 rows x 4 columns]"
            ]
          },
          "metadata": {
            "tags": []
          },
          "execution_count": 20
        }
      ]
    },
    {
      "cell_type": "code",
      "metadata": {
        "id": "qwkF16UOcR8i",
        "colab_type": "code",
        "colab": {}
      },
      "source": [
        "test_textdata = TextList.from_df(test_table, cols='text')"
      ],
      "execution_count": 0,
      "outputs": []
    },
    {
      "cell_type": "code",
      "metadata": {
        "id": "vMbS1FiuceRf",
        "colab_type": "code",
        "outputId": "afeb859a-e40d-4235-fa8c-277463f8b73d",
        "colab": {
          "base_uri": "https://localhost:8080/",
          "height": 88
        }
      },
      "source": [
        "test_textdata"
      ],
      "execution_count": 0,
      "outputs": [
        {
          "output_type": "execute_result",
          "data": {
            "text/plain": [
              "TextList (3263 items)\n",
              "Just happened a terrible car crash,Heard about #earthquake is different cities, stay safe everyone.,there is a forest fire at spot pond, geese are fleeing across the street, I cannot save them all,Apocalypse lighting. #Spokane #wildfires,Typhoon Soudelor kills 28 in China and Taiwan\n",
              "Path: ."
            ]
          },
          "metadata": {
            "tags": []
          },
          "execution_count": 22
        }
      ]
    },
    {
      "cell_type": "code",
      "metadata": {
        "id": "13OKAIyEdJ35",
        "colab_type": "code",
        "outputId": "1e0dd452-e8d5-48bf-998f-9115e03a699e",
        "colab": {
          "base_uri": "https://localhost:8080/",
          "height": 17
        }
      },
      "source": [
        "text_data.add_test(test_textdata)"
      ],
      "execution_count": 0,
      "outputs": [
        {
          "output_type": "display_data",
          "data": {
            "text/html": [
              ""
            ],
            "text/plain": [
              "<IPython.core.display.HTML object>"
            ]
          },
          "metadata": {
            "tags": []
          }
        }
      ]
    },
    {
      "cell_type": "code",
      "metadata": {
        "id": "pHmUBj9adaB-",
        "colab_type": "code",
        "outputId": "7c651538-eb6c-4395-a761-723fb3087374",
        "colab": {
          "base_uri": "https://localhost:8080/",
          "height": 17
        }
      },
      "source": [
        "preds, target = learn.get_preds(ds_type=DatasetType.Test)"
      ],
      "execution_count": 0,
      "outputs": [
        {
          "output_type": "display_data",
          "data": {
            "text/html": [
              ""
            ],
            "text/plain": [
              "<IPython.core.display.HTML object>"
            ]
          },
          "metadata": {
            "tags": []
          }
        }
      ]
    },
    {
      "cell_type": "code",
      "metadata": {
        "id": "dVl14liAdjKZ",
        "colab_type": "code",
        "outputId": "8231f94a-8a83-4467-e372-abd0e5373a50",
        "colab": {
          "base_uri": "https://localhost:8080/",
          "height": 136
        }
      },
      "source": [
        "preds"
      ],
      "execution_count": 0,
      "outputs": [
        {
          "output_type": "execute_result",
          "data": {
            "text/plain": [
              "tensor([[0.1848, 0.8152],\n",
              "        [0.0185, 0.9815],\n",
              "        [0.0049, 0.9951],\n",
              "        ...,\n",
              "        [0.0017, 0.9983],\n",
              "        [0.1574, 0.8426],\n",
              "        [0.1648, 0.8352]])"
            ]
          },
          "metadata": {
            "tags": []
          },
          "execution_count": 25
        }
      ]
    },
    {
      "cell_type": "code",
      "metadata": {
        "id": "V5nPr5IqePre",
        "colab_type": "code",
        "colab": {}
      },
      "source": [
        "prob = preds.numpy()\n",
        "prob_false = [item[0] for item in prob]\n",
        "prob_true = [item[1] for item in prob]\n",
        "test_table['true'] = pd.Series(prob_true, index=test_table.index)\n",
        "test_table['false'] = pd.Series(prob_false, index=test_table.index)"
      ],
      "execution_count": 0,
      "outputs": []
    },
    {
      "cell_type": "code",
      "metadata": {
        "id": "49-0pXeifOgm",
        "colab_type": "code",
        "colab": {}
      },
      "source": [
        "test_table.drop(['text'], axis=1, inplace=True)"
      ],
      "execution_count": 0,
      "outputs": []
    },
    {
      "cell_type": "code",
      "metadata": {
        "id": "fi6D68mFfQKm",
        "colab_type": "code",
        "outputId": "14ffa4c0-d934-440d-8c5e-85e9e25ec99d",
        "colab": {
          "base_uri": "https://localhost:8080/",
          "height": 419
        }
      },
      "source": [
        "test_table"
      ],
      "execution_count": 0,
      "outputs": [
        {
          "output_type": "execute_result",
          "data": {
            "text/html": [
              "<div>\n",
              "<style scoped>\n",
              "    .dataframe tbody tr th:only-of-type {\n",
              "        vertical-align: middle;\n",
              "    }\n",
              "\n",
              "    .dataframe tbody tr th {\n",
              "        vertical-align: top;\n",
              "    }\n",
              "\n",
              "    .dataframe thead th {\n",
              "        text-align: right;\n",
              "    }\n",
              "</style>\n",
              "<table border=\"1\" class=\"dataframe\">\n",
              "  <thead>\n",
              "    <tr style=\"text-align: right;\">\n",
              "      <th></th>\n",
              "      <th>id</th>\n",
              "      <th>keyword</th>\n",
              "      <th>location</th>\n",
              "      <th>true</th>\n",
              "      <th>false</th>\n",
              "    </tr>\n",
              "  </thead>\n",
              "  <tbody>\n",
              "    <tr>\n",
              "      <th>0</th>\n",
              "      <td>0</td>\n",
              "      <td>None</td>\n",
              "      <td>None</td>\n",
              "      <td>0.815184</td>\n",
              "      <td>0.184816</td>\n",
              "    </tr>\n",
              "    <tr>\n",
              "      <th>1</th>\n",
              "      <td>2</td>\n",
              "      <td>None</td>\n",
              "      <td>None</td>\n",
              "      <td>0.981467</td>\n",
              "      <td>0.018533</td>\n",
              "    </tr>\n",
              "    <tr>\n",
              "      <th>2</th>\n",
              "      <td>3</td>\n",
              "      <td>None</td>\n",
              "      <td>None</td>\n",
              "      <td>0.995143</td>\n",
              "      <td>0.004857</td>\n",
              "    </tr>\n",
              "    <tr>\n",
              "      <th>3</th>\n",
              "      <td>9</td>\n",
              "      <td>None</td>\n",
              "      <td>None</td>\n",
              "      <td>0.948623</td>\n",
              "      <td>0.051377</td>\n",
              "    </tr>\n",
              "    <tr>\n",
              "      <th>4</th>\n",
              "      <td>11</td>\n",
              "      <td>None</td>\n",
              "      <td>None</td>\n",
              "      <td>0.999971</td>\n",
              "      <td>0.000029</td>\n",
              "    </tr>\n",
              "    <tr>\n",
              "      <th>...</th>\n",
              "      <td>...</td>\n",
              "      <td>...</td>\n",
              "      <td>...</td>\n",
              "      <td>...</td>\n",
              "      <td>...</td>\n",
              "    </tr>\n",
              "    <tr>\n",
              "      <th>3258</th>\n",
              "      <td>10861</td>\n",
              "      <td>None</td>\n",
              "      <td>None</td>\n",
              "      <td>0.871199</td>\n",
              "      <td>0.128801</td>\n",
              "    </tr>\n",
              "    <tr>\n",
              "      <th>3259</th>\n",
              "      <td>10865</td>\n",
              "      <td>None</td>\n",
              "      <td>None</td>\n",
              "      <td>0.968457</td>\n",
              "      <td>0.031543</td>\n",
              "    </tr>\n",
              "    <tr>\n",
              "      <th>3260</th>\n",
              "      <td>10868</td>\n",
              "      <td>None</td>\n",
              "      <td>None</td>\n",
              "      <td>0.998257</td>\n",
              "      <td>0.001743</td>\n",
              "    </tr>\n",
              "    <tr>\n",
              "      <th>3261</th>\n",
              "      <td>10874</td>\n",
              "      <td>None</td>\n",
              "      <td>None</td>\n",
              "      <td>0.842624</td>\n",
              "      <td>0.157376</td>\n",
              "    </tr>\n",
              "    <tr>\n",
              "      <th>3262</th>\n",
              "      <td>10875</td>\n",
              "      <td>None</td>\n",
              "      <td>None</td>\n",
              "      <td>0.835239</td>\n",
              "      <td>0.164761</td>\n",
              "    </tr>\n",
              "  </tbody>\n",
              "</table>\n",
              "<p>3263 rows × 5 columns</p>\n",
              "</div>"
            ],
            "text/plain": [
              "         id keyword location      true     false\n",
              "0         0    None     None  0.815184  0.184816\n",
              "1         2    None     None  0.981467  0.018533\n",
              "2         3    None     None  0.995143  0.004857\n",
              "3         9    None     None  0.948623  0.051377\n",
              "4        11    None     None  0.999971  0.000029\n",
              "...     ...     ...      ...       ...       ...\n",
              "3258  10861    None     None  0.871199  0.128801\n",
              "3259  10865    None     None  0.968457  0.031543\n",
              "3260  10868    None     None  0.998257  0.001743\n",
              "3261  10874    None     None  0.842624  0.157376\n",
              "3262  10875    None     None  0.835239  0.164761\n",
              "\n",
              "[3263 rows x 5 columns]"
            ]
          },
          "metadata": {
            "tags": []
          },
          "execution_count": 31
        }
      ]
    },
    {
      "cell_type": "code",
      "metadata": {
        "id": "8OeYypWtfboU",
        "colab_type": "code",
        "colab": {}
      },
      "source": [
        "dep_var = 'target'\n",
        "cat_names = ['location', 'keyword']\n",
        "cont_names = ['true', 'false']\n",
        "procs = [FillMissing, Categorify, Normalize]"
      ],
      "execution_count": 0,
      "outputs": []
    },
    {
      "cell_type": "code",
      "metadata": {
        "id": "pLosVYq0it-F",
        "colab_type": "code",
        "colab": {}
      },
      "source": [
        "test = TabularList.from_df(test_table, path=path, cat_names=cat_names, cont_names=cont_names)"
      ],
      "execution_count": 0,
      "outputs": []
    },
    {
      "cell_type": "code",
      "metadata": {
        "id": "uRKrlOQcgFqx",
        "colab_type": "code",
        "outputId": "6f99db90-f6de-448b-c5a3-e40c83caa26f",
        "colab": {
          "base_uri": "https://localhost:8080/",
          "height": 411
        }
      },
      "source": [
        "tab_data = (TabularList.from_df(train_table, path=path, cat_names=cat_names, cont_names=cont_names, procs=procs)\n",
        "                           .split_by_idx(list(range(6112,7613)))\n",
        "                           .label_from_df(cols=dep_var)\n",
        "                           .add_test(test)\n",
        "                           .databunch())\n",
        "tab_data"
      ],
      "execution_count": 0,
      "outputs": [
        {
          "output_type": "execute_result",
          "data": {
            "text/plain": [
              "TabularDataBunch;\n",
              "\n",
              "Train: LabelList (6112 items)\n",
              "x: TabularList\n",
              "location Sydney, New South Wales; keyword emergency%20services; true 1.1461; false -1.1461; ,location None; keyword fear; true -0.6774; false 0.6774; ,location Land Of The Kings; keyword tsunami; true -1.2174; false 1.2174; ,location None; keyword drown; true -0.6651; false 0.6651; ,location cody, austin follows ?*?; keyword wounds; true -0.8321; false 0.8321; \n",
              "y: CategoryList\n",
              "1,0,0,0,1\n",
              "Path: /content/gdrive/My Drive/fastai-v3/data/twitter;\n",
              "\n",
              "Valid: LabelList (1501 items)\n",
              "x: TabularList\n",
              "location Orlando, Fl; keyword eyewitness; true 1.2268; false -1.2268; ,location #na#; keyword destruction; true 1.3453; false -1.3453; ,location Austin, Texas; keyword windstorm; true 0.0073; false -0.0073; ,location None; keyword hailstorm; true 1.1365; false -1.1365; ,location None; keyword trapped; true -0.5093; false 0.5093; \n",
              "y: CategoryList\n",
              "0,1,0,1,0\n",
              "Path: /content/gdrive/My Drive/fastai-v3/data/twitter;\n",
              "\n",
              "Test: LabelList (3263 items)\n",
              "x: TabularList\n",
              "location None; keyword None; true 1.1558; false -3.9137; ,location None; keyword None; true 2.4184; false -5.1763; ,location None; keyword None; true 2.5223; false -5.2802; ,location None; keyword None; true 2.1690; false -4.9269; ,location None; keyword None; true 2.5589; false -5.3168; \n",
              "y: EmptyLabelList\n",
              ",,,,\n",
              "Path: /content/gdrive/My Drive/fastai-v3/data/twitter"
            ]
          },
          "metadata": {
            "tags": []
          },
          "execution_count": 41
        }
      ]
    },
    {
      "cell_type": "code",
      "metadata": {
        "id": "qm-9SQB9i3X1",
        "colab_type": "code",
        "outputId": "3338eeea-304c-4335-f0ac-1231ec121aa3",
        "colab": {
          "base_uri": "https://localhost:8080/",
          "height": 359
        }
      },
      "source": [
        "tab_data.show_batch(rows=10)"
      ],
      "execution_count": 0,
      "outputs": [
        {
          "output_type": "display_data",
          "data": {
            "text/html": [
              "<table border=\"1\" class=\"dataframe\">\n",
              "  <thead>\n",
              "    <tr style=\"text-align: right;\">\n",
              "      <th>location</th>\n",
              "      <th>keyword</th>\n",
              "      <th>true</th>\n",
              "      <th>false</th>\n",
              "      <th>target</th>\n",
              "    </tr>\n",
              "  </thead>\n",
              "  <tbody>\n",
              "    <tr>\n",
              "      <td>USA</td>\n",
              "      <td>emergency</td>\n",
              "      <td>-1.0593</td>\n",
              "      <td>1.0593</td>\n",
              "      <td>0</td>\n",
              "    </tr>\n",
              "    <tr>\n",
              "      <td>None</td>\n",
              "      <td>devastated</td>\n",
              "      <td>1.4069</td>\n",
              "      <td>-1.4069</td>\n",
              "      <td>1</td>\n",
              "    </tr>\n",
              "    <tr>\n",
              "      <td>USA</td>\n",
              "      <td>casualties</td>\n",
              "      <td>1.2672</td>\n",
              "      <td>-1.2672</td>\n",
              "      <td>1</td>\n",
              "    </tr>\n",
              "    <tr>\n",
              "      <td>y(our) boyfriends legs</td>\n",
              "      <td>airplane%20accident</td>\n",
              "      <td>-0.6231</td>\n",
              "      <td>0.6231</td>\n",
              "      <td>0</td>\n",
              "    </tr>\n",
              "    <tr>\n",
              "      <td>California</td>\n",
              "      <td>bridge%20collapse</td>\n",
              "      <td>1.1813</td>\n",
              "      <td>-1.1813</td>\n",
              "      <td>1</td>\n",
              "    </tr>\n",
              "    <tr>\n",
              "      <td>None</td>\n",
              "      <td>hail</td>\n",
              "      <td>-0.2778</td>\n",
              "      <td>0.2778</td>\n",
              "      <td>0</td>\n",
              "    </tr>\n",
              "    <tr>\n",
              "      <td>Newcastle, OK</td>\n",
              "      <td>violent%20storm</td>\n",
              "      <td>-0.0376</td>\n",
              "      <td>0.0376</td>\n",
              "      <td>0</td>\n",
              "    </tr>\n",
              "    <tr>\n",
              "      <td>None</td>\n",
              "      <td>derail</td>\n",
              "      <td>1.4127</td>\n",
              "      <td>-1.4127</td>\n",
              "      <td>1</td>\n",
              "    </tr>\n",
              "    <tr>\n",
              "      <td>None</td>\n",
              "      <td>natural%20disaster</td>\n",
              "      <td>0.8741</td>\n",
              "      <td>-0.8741</td>\n",
              "      <td>1</td>\n",
              "    </tr>\n",
              "    <tr>\n",
              "      <td>Washington DC / Nantes, France</td>\n",
              "      <td>derailed</td>\n",
              "      <td>1.3574</td>\n",
              "      <td>-1.3574</td>\n",
              "      <td>1</td>\n",
              "    </tr>\n",
              "  </tbody>\n",
              "</table>"
            ],
            "text/plain": [
              "<IPython.core.display.HTML object>"
            ]
          },
          "metadata": {
            "tags": []
          }
        }
      ]
    },
    {
      "cell_type": "code",
      "metadata": {
        "id": "rTMnjopzjI2O",
        "colab_type": "code",
        "colab": {}
      },
      "source": [
        "tab_data.save('tab_data.pkl')"
      ],
      "execution_count": 0,
      "outputs": []
    },
    {
      "cell_type": "code",
      "metadata": {
        "id": "Drtsvbkf7rcS",
        "colab_type": "code",
        "colab": {}
      },
      "source": [
        "tab_data = load_data(path,'tab_data.pkl')"
      ],
      "execution_count": 0,
      "outputs": []
    },
    {
      "cell_type": "code",
      "metadata": {
        "id": "tE2r_l0vy6MS",
        "colab_type": "code",
        "colab": {}
      },
      "source": [
        "learn = tabular_learner(tab_data, layers=[1000, 500], emb_drop = 0.04, metrics=accuracy)"
      ],
      "execution_count": 0,
      "outputs": []
    },
    {
      "cell_type": "code",
      "metadata": {
        "id": "uQLIebAO3rb4",
        "colab_type": "code",
        "outputId": "209949df-0f67-49c8-a7af-71deb8d38b79",
        "colab": {
          "base_uri": "https://localhost:8080/",
          "height": 112
        }
      },
      "source": [
        "learn.lr_find()"
      ],
      "execution_count": 0,
      "outputs": [
        {
          "output_type": "display_data",
          "data": {
            "text/html": [
              "\n",
              "    <div>\n",
              "        <style>\n",
              "            /* Turns off some styling */\n",
              "            progress {\n",
              "                /* gets rid of default border in Firefox and Opera. */\n",
              "                border: none;\n",
              "                /* Needs to be in here for Safari polyfill so background images work as expected. */\n",
              "                background-size: auto;\n",
              "            }\n",
              "            .progress-bar-interrupted, .progress-bar-interrupted::-webkit-progress-bar {\n",
              "                background: #F44336;\n",
              "            }\n",
              "        </style>\n",
              "      <progress value='0' class='' max='2', style='width:300px; height:20px; vertical-align: middle;'></progress>\n",
              "      0.00% [0/2 00:00<00:00]\n",
              "    </div>\n",
              "    \n",
              "<table border=\"1\" class=\"dataframe\">\n",
              "  <thead>\n",
              "    <tr style=\"text-align: left;\">\n",
              "      <th>epoch</th>\n",
              "      <th>train_loss</th>\n",
              "      <th>valid_loss</th>\n",
              "      <th>accuracy</th>\n",
              "      <th>time</th>\n",
              "    </tr>\n",
              "  </thead>\n",
              "  <tbody>\n",
              "  </tbody>\n",
              "</table><p>\n",
              "\n",
              "    <div>\n",
              "        <style>\n",
              "            /* Turns off some styling */\n",
              "            progress {\n",
              "                /* gets rid of default border in Firefox and Opera. */\n",
              "                border: none;\n",
              "                /* Needs to be in here for Safari polyfill so background images work as expected. */\n",
              "                background-size: auto;\n",
              "            }\n",
              "            .progress-bar-interrupted, .progress-bar-interrupted::-webkit-progress-bar {\n",
              "                background: #F44336;\n",
              "            }\n",
              "        </style>\n",
              "      <progress value='87' class='' max='95', style='width:300px; height:20px; vertical-align: middle;'></progress>\n",
              "      91.58% [87/95 00:03<00:00 1.4773]\n",
              "    </div>\n",
              "    "
            ],
            "text/plain": [
              "<IPython.core.display.HTML object>"
            ]
          },
          "metadata": {
            "tags": []
          }
        },
        {
          "output_type": "stream",
          "text": [
            "LR Finder is complete, type {learner_name}.recorder.plot() to see the graph.\n"
          ],
          "name": "stdout"
        }
      ]
    },
    {
      "cell_type": "code",
      "metadata": {
        "id": "fvHIuabi6xJZ",
        "colab_type": "code",
        "outputId": "b0408166-26ad-40c7-c8f6-152fc14c5f1b",
        "colab": {
          "base_uri": "https://localhost:8080/",
          "height": 279
        }
      },
      "source": [
        "learn.recorder.plot()"
      ],
      "execution_count": 0,
      "outputs": [
        {
          "output_type": "display_data",
          "data": {
            "image/png": "[encoded data removed]",
            "text/plain": [
              "<Figure size 432x288 with 1 Axes>"
            ]
          },
          "metadata": {
            "tags": []
          }
        }
      ]
    },
    {
      "cell_type": "code",
      "metadata": {
        "id": "UTnqJs3w47BI",
        "colab_type": "code",
        "outputId": "2a98e49d-0ab7-435c-fd27-1a5893982205",
        "colab": {
          "base_uri": "https://localhost:8080/",
          "height": 80
        }
      },
      "source": [
        "learn.fit_one_cycle(1, 1e-3)"
      ],
      "execution_count": 0,
      "outputs": [
        {
          "output_type": "display_data",
          "data": {
            "text/html": [
              "<table border=\"1\" class=\"dataframe\">\n",
              "  <thead>\n",
              "    <tr style=\"text-align: left;\">\n",
              "      <th>epoch</th>\n",
              "      <th>train_loss</th>\n",
              "      <th>valid_loss</th>\n",
              "      <th>accuracy</th>\n",
              "      <th>time</th>\n",
              "    </tr>\n",
              "  </thead>\n",
              "  <tbody>\n",
              "    <tr>\n",
              "      <td>0</td>\n",
              "      <td>0.419621</td>\n",
              "      <td>0.410770</td>\n",
              "      <td>0.826782</td>\n",
              "      <td>00:03</td>\n",
              "    </tr>\n",
              "  </tbody>\n",
              "</table>"
            ],
            "text/plain": [
              "<IPython.core.display.HTML object>"
            ]
          },
          "metadata": {
            "tags": []
          }
        }
      ]
    },
    {
      "cell_type": "code",
      "metadata": {
        "id": "YUN0Wqmq5CD_",
        "colab_type": "code",
        "outputId": "c7341e86-1b12-4d46-fb57-a73f98a22922",
        "colab": {
          "base_uri": "https://localhost:8080/",
          "height": 17
        }
      },
      "source": [
        "preds, target = learn.get_preds(ds_type=DatasetType.Test)"
      ],
      "execution_count": 0,
      "outputs": [
        {
          "output_type": "display_data",
          "data": {
            "text/html": [
              ""
            ],
            "text/plain": [
              "<IPython.core.display.HTML object>"
            ]
          },
          "metadata": {
            "tags": []
          }
        }
      ]
    },
    {
      "cell_type": "code",
      "metadata": {
        "id": "1yMCxc4Z5kHX",
        "colab_type": "code",
        "outputId": "ee3953f3-6569-43b0-8e4e-cfe77c3f195c",
        "colab": {
          "base_uri": "https://localhost:8080/",
          "height": 136
        }
      },
      "source": [
        "preds"
      ],
      "execution_count": 0,
      "outputs": [
        {
          "output_type": "execute_result",
          "data": {
            "text/plain": [
              "tensor([[5.2063e-09, 1.0000e+00],\n",
              "        [7.1715e-14, 1.0000e+00],\n",
              "        [2.6767e-14, 1.0000e+00],\n",
              "        ...,\n",
              "        [2.1368e-14, 1.0000e+00],\n",
              "        [9.0415e-10, 1.0000e+00],\n",
              "        [1.4493e-09, 1.0000e+00]])"
            ]
          },
          "metadata": {
            "tags": []
          },
          "execution_count": 186
        }
      ]
    },
    {
      "cell_type": "code",
      "metadata": {
        "id": "uxnupdq9Cl7S",
        "colab_type": "code",
        "colab": {}
      },
      "source": [
        ""
      ],
      "execution_count": 0,
      "outputs": []
    }
  ]
}